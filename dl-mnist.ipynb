{
 "cells": [
  {
   "cell_type": "code",
   "execution_count": 1,
   "id": "f48df984",
   "metadata": {
    "_cell_guid": "b1076dfc-b9ad-4769-8c92-a6c4dae69d19",
    "_uuid": "8f2839f25d086af736a60e9eeb907d3b93b6e0e5",
    "execution": {
     "iopub.execute_input": "2022-05-17T18:29:49.527280Z",
     "iopub.status.busy": "2022-05-17T18:29:49.526710Z",
     "iopub.status.idle": "2022-05-17T18:29:49.556109Z",
     "shell.execute_reply": "2022-05-17T18:29:49.555571Z"
    },
    "papermill": {
     "duration": 0.064352,
     "end_time": "2022-05-17T18:29:49.557906",
     "exception": false,
     "start_time": "2022-05-17T18:29:49.493554",
     "status": "completed"
    },
    "tags": []
   },
   "outputs": [
    {
     "name": "stdout",
     "output_type": "stream",
     "text": [
      "/kaggle/input/sign-language-mnist/sign_mnist_test.csv\n",
      "/kaggle/input/sign-language-mnist/amer_sign2.png\n",
      "/kaggle/input/sign-language-mnist/amer_sign3.png\n",
      "/kaggle/input/sign-language-mnist/sign_mnist_train.csv\n",
      "/kaggle/input/sign-language-mnist/american_sign_language.PNG\n",
      "/kaggle/input/sign-language-mnist/sign_mnist_test/sign_mnist_test.csv\n",
      "/kaggle/input/sign-language-mnist/sign_mnist_train/sign_mnist_train.csv\n"
     ]
    }
   ],
   "source": [
    "# This Python 3 environment comes with many helpful analytics libraries installed\n",
    "# It is defined by the kaggle/python Docker image: https://github.com/kaggle/docker-python\n",
    "# For example, here's several helpful packages to load\n",
    "\n",
    "import numpy as np # linear algebra\n",
    "import pandas as pd # data processing, CSV file I/O (e.g. pd.read_csv)\n",
    "\n",
    "# Input data files are available in the read-only \"../input/\" directory\n",
    "# For example, running this (by clicking run or pressing Shift+Enter) will list all files under the input directory\n",
    "\n",
    "import os\n",
    "for dirname, _, filenames in os.walk('/kaggle/input'):\n",
    "    for filename in filenames:\n",
    "        print(os.path.join(dirname, filename))\n",
    "\n",
    "# You can write up to 20GB to the current directory (/kaggle/working/) that gets preserved as output when you create a version using \"Save & Run All\" \n",
    "# You can also write temporary files to /kaggle/temp/, but they won't be saved outside of the current session"
   ]
  },
  {
   "cell_type": "markdown",
   "id": "f5658b90",
   "metadata": {
    "execution": {
     "iopub.execute_input": "2022-05-08T19:51:58.919303Z",
     "iopub.status.busy": "2022-05-08T19:51:58.918772Z",
     "iopub.status.idle": "2022-05-08T19:51:58.923442Z",
     "shell.execute_reply": "2022-05-08T19:51:58.922802Z",
     "shell.execute_reply.started": "2022-05-08T19:51:58.919261Z"
    },
    "papermill": {
     "duration": 0.027433,
     "end_time": "2022-05-17T18:29:49.613591",
     "exception": false,
     "start_time": "2022-05-17T18:29:49.586158",
     "status": "completed"
    },
    "tags": []
   },
   "source": [
    "# IMPORTING LIBRARIES"
   ]
  },
  {
   "cell_type": "code",
   "execution_count": 2,
   "id": "07e20687",
   "metadata": {
    "execution": {
     "iopub.execute_input": "2022-05-17T18:29:49.671920Z",
     "iopub.status.busy": "2022-05-17T18:29:49.670749Z",
     "iopub.status.idle": "2022-05-17T18:29:56.647059Z",
     "shell.execute_reply": "2022-05-17T18:29:56.646295Z"
    },
    "papermill": {
     "duration": 7.008098,
     "end_time": "2022-05-17T18:29:56.649458",
     "exception": false,
     "start_time": "2022-05-17T18:29:49.641360",
     "status": "completed"
    },
    "tags": []
   },
   "outputs": [],
   "source": [
    "import matplotlib.pyplot as plt\n",
    "import seaborn as sns\n",
    "\n",
    "import keras\n",
    "from keras.models import Sequential\n",
    "from keras.layers import Dense, Conv2D , MaxPool2D , Flatten , Dropout , BatchNormalization\n",
    "from keras.preprocessing.image import ImageDataGenerator\n",
    "from keras.callbacks import ReduceLROnPlateau\n",
    "\n",
    "from sklearn.model_selection import train_test_split\n",
    "from sklearn.metrics import classification_report,confusion_matrix"
   ]
  },
  {
   "cell_type": "markdown",
   "id": "e0ebc8d6",
   "metadata": {
    "papermill": {
     "duration": 0.04312,
     "end_time": "2022-05-17T18:29:56.736617",
     "exception": false,
     "start_time": "2022-05-17T18:29:56.693497",
     "status": "completed"
    },
    "tags": []
   },
   "source": [
    "# LOADING DATASET"
   ]
  },
  {
   "cell_type": "code",
   "execution_count": 3,
   "id": "8b229af3",
   "metadata": {
    "execution": {
     "iopub.execute_input": "2022-05-17T18:29:56.826934Z",
     "iopub.status.busy": "2022-05-17T18:29:56.826472Z",
     "iopub.status.idle": "2022-05-17T18:30:00.581328Z",
     "shell.execute_reply": "2022-05-17T18:30:00.580532Z"
    },
    "papermill": {
     "duration": 3.801968,
     "end_time": "2022-05-17T18:30:00.583480",
     "exception": false,
     "start_time": "2022-05-17T18:29:56.781512",
     "status": "completed"
    },
    "tags": []
   },
   "outputs": [],
   "source": [
    "train = pd.read_csv(\"../input/sign-language-mnist/sign_mnist_train/sign_mnist_train.csv\")\n",
    "test = pd.read_csv(\"../input/sign-language-mnist/sign_mnist_test/sign_mnist_test.csv\")"
   ]
  },
  {
   "cell_type": "code",
   "execution_count": 4,
   "id": "2d3db3bf",
   "metadata": {
    "execution": {
     "iopub.execute_input": "2022-05-17T18:30:00.641632Z",
     "iopub.status.busy": "2022-05-17T18:30:00.641342Z",
     "iopub.status.idle": "2022-05-17T18:30:02.384302Z",
     "shell.execute_reply": "2022-05-17T18:30:02.383345Z"
    },
    "papermill": {
     "duration": 1.774621,
     "end_time": "2022-05-17T18:30:02.386352",
     "exception": false,
     "start_time": "2022-05-17T18:30:00.611731",
     "status": "completed"
    },
    "tags": []
   },
   "outputs": [
    {
     "data": {
      "text/html": [
       "<div>\n",
       "<style scoped>\n",
       "    .dataframe tbody tr th:only-of-type {\n",
       "        vertical-align: middle;\n",
       "    }\n",
       "\n",
       "    .dataframe tbody tr th {\n",
       "        vertical-align: top;\n",
       "    }\n",
       "\n",
       "    .dataframe thead th {\n",
       "        text-align: right;\n",
       "    }\n",
       "</style>\n",
       "<table border=\"1\" class=\"dataframe\">\n",
       "  <thead>\n",
       "    <tr style=\"text-align: right;\">\n",
       "      <th></th>\n",
       "      <th>label</th>\n",
       "      <th>pixel1</th>\n",
       "      <th>pixel2</th>\n",
       "      <th>pixel3</th>\n",
       "      <th>pixel4</th>\n",
       "      <th>pixel5</th>\n",
       "      <th>pixel6</th>\n",
       "      <th>pixel7</th>\n",
       "      <th>pixel8</th>\n",
       "      <th>pixel9</th>\n",
       "      <th>...</th>\n",
       "      <th>pixel775</th>\n",
       "      <th>pixel776</th>\n",
       "      <th>pixel777</th>\n",
       "      <th>pixel778</th>\n",
       "      <th>pixel779</th>\n",
       "      <th>pixel780</th>\n",
       "      <th>pixel781</th>\n",
       "      <th>pixel782</th>\n",
       "      <th>pixel783</th>\n",
       "      <th>pixel784</th>\n",
       "    </tr>\n",
       "  </thead>\n",
       "  <tbody>\n",
       "    <tr>\n",
       "      <th>count</th>\n",
       "      <td>27455.000000</td>\n",
       "      <td>27455.000000</td>\n",
       "      <td>27455.000000</td>\n",
       "      <td>27455.000000</td>\n",
       "      <td>27455.000000</td>\n",
       "      <td>27455.000000</td>\n",
       "      <td>27455.000000</td>\n",
       "      <td>27455.000000</td>\n",
       "      <td>27455.000000</td>\n",
       "      <td>27455.000000</td>\n",
       "      <td>...</td>\n",
       "      <td>27455.000000</td>\n",
       "      <td>27455.000000</td>\n",
       "      <td>27455.000000</td>\n",
       "      <td>27455.000000</td>\n",
       "      <td>27455.000000</td>\n",
       "      <td>27455.000000</td>\n",
       "      <td>27455.000000</td>\n",
       "      <td>27455.000000</td>\n",
       "      <td>27455.000000</td>\n",
       "      <td>27455.000000</td>\n",
       "    </tr>\n",
       "    <tr>\n",
       "      <th>mean</th>\n",
       "      <td>12.318813</td>\n",
       "      <td>145.419377</td>\n",
       "      <td>148.500273</td>\n",
       "      <td>151.247714</td>\n",
       "      <td>153.546531</td>\n",
       "      <td>156.210891</td>\n",
       "      <td>158.411255</td>\n",
       "      <td>160.472154</td>\n",
       "      <td>162.339683</td>\n",
       "      <td>163.954799</td>\n",
       "      <td>...</td>\n",
       "      <td>141.104863</td>\n",
       "      <td>147.495611</td>\n",
       "      <td>153.325806</td>\n",
       "      <td>159.125332</td>\n",
       "      <td>161.969259</td>\n",
       "      <td>162.736696</td>\n",
       "      <td>162.906137</td>\n",
       "      <td>161.966454</td>\n",
       "      <td>161.137898</td>\n",
       "      <td>159.824731</td>\n",
       "    </tr>\n",
       "    <tr>\n",
       "      <th>std</th>\n",
       "      <td>7.287552</td>\n",
       "      <td>41.358555</td>\n",
       "      <td>39.942152</td>\n",
       "      <td>39.056286</td>\n",
       "      <td>38.595247</td>\n",
       "      <td>37.111165</td>\n",
       "      <td>36.125579</td>\n",
       "      <td>35.016392</td>\n",
       "      <td>33.661998</td>\n",
       "      <td>32.651607</td>\n",
       "      <td>...</td>\n",
       "      <td>63.751194</td>\n",
       "      <td>65.512894</td>\n",
       "      <td>64.427412</td>\n",
       "      <td>63.708507</td>\n",
       "      <td>63.738316</td>\n",
       "      <td>63.444008</td>\n",
       "      <td>63.509210</td>\n",
       "      <td>63.298721</td>\n",
       "      <td>63.610415</td>\n",
       "      <td>64.396846</td>\n",
       "    </tr>\n",
       "    <tr>\n",
       "      <th>min</th>\n",
       "      <td>0.000000</td>\n",
       "      <td>0.000000</td>\n",
       "      <td>0.000000</td>\n",
       "      <td>0.000000</td>\n",
       "      <td>0.000000</td>\n",
       "      <td>0.000000</td>\n",
       "      <td>0.000000</td>\n",
       "      <td>0.000000</td>\n",
       "      <td>0.000000</td>\n",
       "      <td>0.000000</td>\n",
       "      <td>...</td>\n",
       "      <td>0.000000</td>\n",
       "      <td>0.000000</td>\n",
       "      <td>0.000000</td>\n",
       "      <td>0.000000</td>\n",
       "      <td>0.000000</td>\n",
       "      <td>0.000000</td>\n",
       "      <td>0.000000</td>\n",
       "      <td>0.000000</td>\n",
       "      <td>0.000000</td>\n",
       "      <td>0.000000</td>\n",
       "    </tr>\n",
       "    <tr>\n",
       "      <th>25%</th>\n",
       "      <td>6.000000</td>\n",
       "      <td>121.000000</td>\n",
       "      <td>126.000000</td>\n",
       "      <td>130.000000</td>\n",
       "      <td>133.000000</td>\n",
       "      <td>137.000000</td>\n",
       "      <td>140.000000</td>\n",
       "      <td>142.000000</td>\n",
       "      <td>144.000000</td>\n",
       "      <td>146.000000</td>\n",
       "      <td>...</td>\n",
       "      <td>92.000000</td>\n",
       "      <td>96.000000</td>\n",
       "      <td>103.000000</td>\n",
       "      <td>112.000000</td>\n",
       "      <td>120.000000</td>\n",
       "      <td>125.000000</td>\n",
       "      <td>128.000000</td>\n",
       "      <td>128.000000</td>\n",
       "      <td>128.000000</td>\n",
       "      <td>125.500000</td>\n",
       "    </tr>\n",
       "    <tr>\n",
       "      <th>50%</th>\n",
       "      <td>13.000000</td>\n",
       "      <td>150.000000</td>\n",
       "      <td>153.000000</td>\n",
       "      <td>156.000000</td>\n",
       "      <td>158.000000</td>\n",
       "      <td>160.000000</td>\n",
       "      <td>162.000000</td>\n",
       "      <td>164.000000</td>\n",
       "      <td>165.000000</td>\n",
       "      <td>166.000000</td>\n",
       "      <td>...</td>\n",
       "      <td>144.000000</td>\n",
       "      <td>162.000000</td>\n",
       "      <td>172.000000</td>\n",
       "      <td>180.000000</td>\n",
       "      <td>183.000000</td>\n",
       "      <td>184.000000</td>\n",
       "      <td>184.000000</td>\n",
       "      <td>182.000000</td>\n",
       "      <td>182.000000</td>\n",
       "      <td>182.000000</td>\n",
       "    </tr>\n",
       "    <tr>\n",
       "      <th>75%</th>\n",
       "      <td>19.000000</td>\n",
       "      <td>174.000000</td>\n",
       "      <td>176.000000</td>\n",
       "      <td>178.000000</td>\n",
       "      <td>179.000000</td>\n",
       "      <td>181.000000</td>\n",
       "      <td>182.000000</td>\n",
       "      <td>183.000000</td>\n",
       "      <td>184.000000</td>\n",
       "      <td>185.000000</td>\n",
       "      <td>...</td>\n",
       "      <td>196.000000</td>\n",
       "      <td>202.000000</td>\n",
       "      <td>205.000000</td>\n",
       "      <td>207.000000</td>\n",
       "      <td>208.000000</td>\n",
       "      <td>207.000000</td>\n",
       "      <td>207.000000</td>\n",
       "      <td>206.000000</td>\n",
       "      <td>204.000000</td>\n",
       "      <td>204.000000</td>\n",
       "    </tr>\n",
       "    <tr>\n",
       "      <th>max</th>\n",
       "      <td>24.000000</td>\n",
       "      <td>255.000000</td>\n",
       "      <td>255.000000</td>\n",
       "      <td>255.000000</td>\n",
       "      <td>255.000000</td>\n",
       "      <td>255.000000</td>\n",
       "      <td>255.000000</td>\n",
       "      <td>255.000000</td>\n",
       "      <td>255.000000</td>\n",
       "      <td>255.000000</td>\n",
       "      <td>...</td>\n",
       "      <td>255.000000</td>\n",
       "      <td>255.000000</td>\n",
       "      <td>255.000000</td>\n",
       "      <td>255.000000</td>\n",
       "      <td>255.000000</td>\n",
       "      <td>255.000000</td>\n",
       "      <td>255.000000</td>\n",
       "      <td>255.000000</td>\n",
       "      <td>255.000000</td>\n",
       "      <td>255.000000</td>\n",
       "    </tr>\n",
       "  </tbody>\n",
       "</table>\n",
       "<p>8 rows × 785 columns</p>\n",
       "</div>"
      ],
      "text/plain": [
       "              label        pixel1        pixel2        pixel3        pixel4  \\\n",
       "count  27455.000000  27455.000000  27455.000000  27455.000000  27455.000000   \n",
       "mean      12.318813    145.419377    148.500273    151.247714    153.546531   \n",
       "std        7.287552     41.358555     39.942152     39.056286     38.595247   \n",
       "min        0.000000      0.000000      0.000000      0.000000      0.000000   \n",
       "25%        6.000000    121.000000    126.000000    130.000000    133.000000   \n",
       "50%       13.000000    150.000000    153.000000    156.000000    158.000000   \n",
       "75%       19.000000    174.000000    176.000000    178.000000    179.000000   \n",
       "max       24.000000    255.000000    255.000000    255.000000    255.000000   \n",
       "\n",
       "             pixel5        pixel6        pixel7        pixel8        pixel9  \\\n",
       "count  27455.000000  27455.000000  27455.000000  27455.000000  27455.000000   \n",
       "mean     156.210891    158.411255    160.472154    162.339683    163.954799   \n",
       "std       37.111165     36.125579     35.016392     33.661998     32.651607   \n",
       "min        0.000000      0.000000      0.000000      0.000000      0.000000   \n",
       "25%      137.000000    140.000000    142.000000    144.000000    146.000000   \n",
       "50%      160.000000    162.000000    164.000000    165.000000    166.000000   \n",
       "75%      181.000000    182.000000    183.000000    184.000000    185.000000   \n",
       "max      255.000000    255.000000    255.000000    255.000000    255.000000   \n",
       "\n",
       "       ...      pixel775      pixel776      pixel777      pixel778  \\\n",
       "count  ...  27455.000000  27455.000000  27455.000000  27455.000000   \n",
       "mean   ...    141.104863    147.495611    153.325806    159.125332   \n",
       "std    ...     63.751194     65.512894     64.427412     63.708507   \n",
       "min    ...      0.000000      0.000000      0.000000      0.000000   \n",
       "25%    ...     92.000000     96.000000    103.000000    112.000000   \n",
       "50%    ...    144.000000    162.000000    172.000000    180.000000   \n",
       "75%    ...    196.000000    202.000000    205.000000    207.000000   \n",
       "max    ...    255.000000    255.000000    255.000000    255.000000   \n",
       "\n",
       "           pixel779      pixel780      pixel781      pixel782      pixel783  \\\n",
       "count  27455.000000  27455.000000  27455.000000  27455.000000  27455.000000   \n",
       "mean     161.969259    162.736696    162.906137    161.966454    161.137898   \n",
       "std       63.738316     63.444008     63.509210     63.298721     63.610415   \n",
       "min        0.000000      0.000000      0.000000      0.000000      0.000000   \n",
       "25%      120.000000    125.000000    128.000000    128.000000    128.000000   \n",
       "50%      183.000000    184.000000    184.000000    182.000000    182.000000   \n",
       "75%      208.000000    207.000000    207.000000    206.000000    204.000000   \n",
       "max      255.000000    255.000000    255.000000    255.000000    255.000000   \n",
       "\n",
       "           pixel784  \n",
       "count  27455.000000  \n",
       "mean     159.824731  \n",
       "std       64.396846  \n",
       "min        0.000000  \n",
       "25%      125.500000  \n",
       "50%      182.000000  \n",
       "75%      204.000000  \n",
       "max      255.000000  \n",
       "\n",
       "[8 rows x 785 columns]"
      ]
     },
     "execution_count": 4,
     "metadata": {},
     "output_type": "execute_result"
    }
   ],
   "source": [
    "train.describe()"
   ]
  },
  {
   "cell_type": "code",
   "execution_count": 5,
   "id": "44730f65",
   "metadata": {
    "execution": {
     "iopub.execute_input": "2022-05-17T18:30:02.475671Z",
     "iopub.status.busy": "2022-05-17T18:30:02.475430Z",
     "iopub.status.idle": "2022-05-17T18:30:03.948610Z",
     "shell.execute_reply": "2022-05-17T18:30:03.947849Z"
    },
    "papermill": {
     "duration": 1.519971,
     "end_time": "2022-05-17T18:30:03.950585",
     "exception": false,
     "start_time": "2022-05-17T18:30:02.430614",
     "status": "completed"
    },
    "tags": []
   },
   "outputs": [
    {
     "data": {
      "text/html": [
       "<div>\n",
       "<style scoped>\n",
       "    .dataframe tbody tr th:only-of-type {\n",
       "        vertical-align: middle;\n",
       "    }\n",
       "\n",
       "    .dataframe tbody tr th {\n",
       "        vertical-align: top;\n",
       "    }\n",
       "\n",
       "    .dataframe thead th {\n",
       "        text-align: right;\n",
       "    }\n",
       "</style>\n",
       "<table border=\"1\" class=\"dataframe\">\n",
       "  <thead>\n",
       "    <tr style=\"text-align: right;\">\n",
       "      <th></th>\n",
       "      <th>label</th>\n",
       "      <th>pixel1</th>\n",
       "      <th>pixel2</th>\n",
       "      <th>pixel3</th>\n",
       "      <th>pixel4</th>\n",
       "      <th>pixel5</th>\n",
       "      <th>pixel6</th>\n",
       "      <th>pixel7</th>\n",
       "      <th>pixel8</th>\n",
       "      <th>pixel9</th>\n",
       "      <th>...</th>\n",
       "      <th>pixel775</th>\n",
       "      <th>pixel776</th>\n",
       "      <th>pixel777</th>\n",
       "      <th>pixel778</th>\n",
       "      <th>pixel779</th>\n",
       "      <th>pixel780</th>\n",
       "      <th>pixel781</th>\n",
       "      <th>pixel782</th>\n",
       "      <th>pixel783</th>\n",
       "      <th>pixel784</th>\n",
       "    </tr>\n",
       "  </thead>\n",
       "  <tbody>\n",
       "    <tr>\n",
       "      <th>count</th>\n",
       "      <td>7172.000000</td>\n",
       "      <td>7172.000000</td>\n",
       "      <td>7172.000000</td>\n",
       "      <td>7172.000000</td>\n",
       "      <td>7172.000000</td>\n",
       "      <td>7172.000000</td>\n",
       "      <td>7172.000000</td>\n",
       "      <td>7172.000000</td>\n",
       "      <td>7172.000000</td>\n",
       "      <td>7172.000000</td>\n",
       "      <td>...</td>\n",
       "      <td>7172.000000</td>\n",
       "      <td>7172.000000</td>\n",
       "      <td>7172.000000</td>\n",
       "      <td>7172.000000</td>\n",
       "      <td>7172.000000</td>\n",
       "      <td>7172.000000</td>\n",
       "      <td>7172.000000</td>\n",
       "      <td>7172.000000</td>\n",
       "      <td>7172.000000</td>\n",
       "      <td>7172.000000</td>\n",
       "    </tr>\n",
       "    <tr>\n",
       "      <th>mean</th>\n",
       "      <td>11.247351</td>\n",
       "      <td>147.532627</td>\n",
       "      <td>150.445761</td>\n",
       "      <td>153.324317</td>\n",
       "      <td>155.663413</td>\n",
       "      <td>158.169688</td>\n",
       "      <td>160.790853</td>\n",
       "      <td>162.282766</td>\n",
       "      <td>163.649191</td>\n",
       "      <td>165.589515</td>\n",
       "      <td>...</td>\n",
       "      <td>138.546570</td>\n",
       "      <td>145.539598</td>\n",
       "      <td>150.744980</td>\n",
       "      <td>155.638873</td>\n",
       "      <td>158.893196</td>\n",
       "      <td>159.648494</td>\n",
       "      <td>158.162019</td>\n",
       "      <td>157.672755</td>\n",
       "      <td>156.664250</td>\n",
       "      <td>154.776771</td>\n",
       "    </tr>\n",
       "    <tr>\n",
       "      <th>std</th>\n",
       "      <td>7.446712</td>\n",
       "      <td>43.593144</td>\n",
       "      <td>41.867838</td>\n",
       "      <td>40.442728</td>\n",
       "      <td>39.354776</td>\n",
       "      <td>37.749637</td>\n",
       "      <td>36.090916</td>\n",
       "      <td>36.212636</td>\n",
       "      <td>35.885378</td>\n",
       "      <td>33.721876</td>\n",
       "      <td>...</td>\n",
       "      <td>64.501665</td>\n",
       "      <td>65.132370</td>\n",
       "      <td>65.760539</td>\n",
       "      <td>65.565147</td>\n",
       "      <td>65.200300</td>\n",
       "      <td>65.499368</td>\n",
       "      <td>66.493576</td>\n",
       "      <td>66.009690</td>\n",
       "      <td>67.202939</td>\n",
       "      <td>68.285148</td>\n",
       "    </tr>\n",
       "    <tr>\n",
       "      <th>min</th>\n",
       "      <td>0.000000</td>\n",
       "      <td>0.000000</td>\n",
       "      <td>0.000000</td>\n",
       "      <td>0.000000</td>\n",
       "      <td>0.000000</td>\n",
       "      <td>0.000000</td>\n",
       "      <td>10.000000</td>\n",
       "      <td>0.000000</td>\n",
       "      <td>0.000000</td>\n",
       "      <td>0.000000</td>\n",
       "      <td>...</td>\n",
       "      <td>0.000000</td>\n",
       "      <td>0.000000</td>\n",
       "      <td>0.000000</td>\n",
       "      <td>0.000000</td>\n",
       "      <td>0.000000</td>\n",
       "      <td>0.000000</td>\n",
       "      <td>0.000000</td>\n",
       "      <td>0.000000</td>\n",
       "      <td>0.000000</td>\n",
       "      <td>0.000000</td>\n",
       "    </tr>\n",
       "    <tr>\n",
       "      <th>25%</th>\n",
       "      <td>4.000000</td>\n",
       "      <td>122.000000</td>\n",
       "      <td>126.000000</td>\n",
       "      <td>130.000000</td>\n",
       "      <td>134.000000</td>\n",
       "      <td>137.000000</td>\n",
       "      <td>141.000000</td>\n",
       "      <td>144.000000</td>\n",
       "      <td>145.000000</td>\n",
       "      <td>147.000000</td>\n",
       "      <td>...</td>\n",
       "      <td>90.000000</td>\n",
       "      <td>95.000000</td>\n",
       "      <td>99.000000</td>\n",
       "      <td>105.000000</td>\n",
       "      <td>113.000000</td>\n",
       "      <td>113.750000</td>\n",
       "      <td>113.000000</td>\n",
       "      <td>115.000000</td>\n",
       "      <td>111.000000</td>\n",
       "      <td>106.750000</td>\n",
       "    </tr>\n",
       "    <tr>\n",
       "      <th>50%</th>\n",
       "      <td>11.000000</td>\n",
       "      <td>154.000000</td>\n",
       "      <td>157.000000</td>\n",
       "      <td>159.000000</td>\n",
       "      <td>161.000000</td>\n",
       "      <td>163.000000</td>\n",
       "      <td>165.000000</td>\n",
       "      <td>166.000000</td>\n",
       "      <td>168.000000</td>\n",
       "      <td>169.000000</td>\n",
       "      <td>...</td>\n",
       "      <td>137.000000</td>\n",
       "      <td>155.000000</td>\n",
       "      <td>168.000000</td>\n",
       "      <td>177.000000</td>\n",
       "      <td>181.000000</td>\n",
       "      <td>182.000000</td>\n",
       "      <td>181.000000</td>\n",
       "      <td>180.000000</td>\n",
       "      <td>180.000000</td>\n",
       "      <td>179.000000</td>\n",
       "    </tr>\n",
       "    <tr>\n",
       "      <th>75%</th>\n",
       "      <td>18.000000</td>\n",
       "      <td>178.000000</td>\n",
       "      <td>179.000000</td>\n",
       "      <td>181.000000</td>\n",
       "      <td>182.000000</td>\n",
       "      <td>184.000000</td>\n",
       "      <td>185.000000</td>\n",
       "      <td>186.000000</td>\n",
       "      <td>187.000000</td>\n",
       "      <td>187.000000</td>\n",
       "      <td>...</td>\n",
       "      <td>195.000000</td>\n",
       "      <td>200.000000</td>\n",
       "      <td>204.250000</td>\n",
       "      <td>207.000000</td>\n",
       "      <td>207.000000</td>\n",
       "      <td>208.000000</td>\n",
       "      <td>207.000000</td>\n",
       "      <td>205.000000</td>\n",
       "      <td>206.000000</td>\n",
       "      <td>204.000000</td>\n",
       "    </tr>\n",
       "    <tr>\n",
       "      <th>max</th>\n",
       "      <td>24.000000</td>\n",
       "      <td>255.000000</td>\n",
       "      <td>255.000000</td>\n",
       "      <td>255.000000</td>\n",
       "      <td>255.000000</td>\n",
       "      <td>255.000000</td>\n",
       "      <td>255.000000</td>\n",
       "      <td>255.000000</td>\n",
       "      <td>255.000000</td>\n",
       "      <td>255.000000</td>\n",
       "      <td>...</td>\n",
       "      <td>255.000000</td>\n",
       "      <td>255.000000</td>\n",
       "      <td>255.000000</td>\n",
       "      <td>255.000000</td>\n",
       "      <td>255.000000</td>\n",
       "      <td>255.000000</td>\n",
       "      <td>255.000000</td>\n",
       "      <td>255.000000</td>\n",
       "      <td>255.000000</td>\n",
       "      <td>255.000000</td>\n",
       "    </tr>\n",
       "  </tbody>\n",
       "</table>\n",
       "<p>8 rows × 785 columns</p>\n",
       "</div>"
      ],
      "text/plain": [
       "             label       pixel1       pixel2       pixel3       pixel4  \\\n",
       "count  7172.000000  7172.000000  7172.000000  7172.000000  7172.000000   \n",
       "mean     11.247351   147.532627   150.445761   153.324317   155.663413   \n",
       "std       7.446712    43.593144    41.867838    40.442728    39.354776   \n",
       "min       0.000000     0.000000     0.000000     0.000000     0.000000   \n",
       "25%       4.000000   122.000000   126.000000   130.000000   134.000000   \n",
       "50%      11.000000   154.000000   157.000000   159.000000   161.000000   \n",
       "75%      18.000000   178.000000   179.000000   181.000000   182.000000   \n",
       "max      24.000000   255.000000   255.000000   255.000000   255.000000   \n",
       "\n",
       "            pixel5       pixel6       pixel7       pixel8       pixel9  ...  \\\n",
       "count  7172.000000  7172.000000  7172.000000  7172.000000  7172.000000  ...   \n",
       "mean    158.169688   160.790853   162.282766   163.649191   165.589515  ...   \n",
       "std      37.749637    36.090916    36.212636    35.885378    33.721876  ...   \n",
       "min       0.000000    10.000000     0.000000     0.000000     0.000000  ...   \n",
       "25%     137.000000   141.000000   144.000000   145.000000   147.000000  ...   \n",
       "50%     163.000000   165.000000   166.000000   168.000000   169.000000  ...   \n",
       "75%     184.000000   185.000000   186.000000   187.000000   187.000000  ...   \n",
       "max     255.000000   255.000000   255.000000   255.000000   255.000000  ...   \n",
       "\n",
       "          pixel775     pixel776     pixel777     pixel778     pixel779  \\\n",
       "count  7172.000000  7172.000000  7172.000000  7172.000000  7172.000000   \n",
       "mean    138.546570   145.539598   150.744980   155.638873   158.893196   \n",
       "std      64.501665    65.132370    65.760539    65.565147    65.200300   \n",
       "min       0.000000     0.000000     0.000000     0.000000     0.000000   \n",
       "25%      90.000000    95.000000    99.000000   105.000000   113.000000   \n",
       "50%     137.000000   155.000000   168.000000   177.000000   181.000000   \n",
       "75%     195.000000   200.000000   204.250000   207.000000   207.000000   \n",
       "max     255.000000   255.000000   255.000000   255.000000   255.000000   \n",
       "\n",
       "          pixel780     pixel781     pixel782     pixel783     pixel784  \n",
       "count  7172.000000  7172.000000  7172.000000  7172.000000  7172.000000  \n",
       "mean    159.648494   158.162019   157.672755   156.664250   154.776771  \n",
       "std      65.499368    66.493576    66.009690    67.202939    68.285148  \n",
       "min       0.000000     0.000000     0.000000     0.000000     0.000000  \n",
       "25%     113.750000   113.000000   115.000000   111.000000   106.750000  \n",
       "50%     182.000000   181.000000   180.000000   180.000000   179.000000  \n",
       "75%     208.000000   207.000000   205.000000   206.000000   204.000000  \n",
       "max     255.000000   255.000000   255.000000   255.000000   255.000000  \n",
       "\n",
       "[8 rows x 785 columns]"
      ]
     },
     "execution_count": 5,
     "metadata": {},
     "output_type": "execute_result"
    }
   ],
   "source": [
    "test.describe()"
   ]
  },
  {
   "cell_type": "code",
   "execution_count": 6,
   "id": "2296f518",
   "metadata": {
    "execution": {
     "iopub.execute_input": "2022-05-17T18:30:04.039977Z",
     "iopub.status.busy": "2022-05-17T18:30:04.039491Z",
     "iopub.status.idle": "2022-05-17T18:30:04.057601Z",
     "shell.execute_reply": "2022-05-17T18:30:04.056652Z"
    },
    "papermill": {
     "duration": 0.065137,
     "end_time": "2022-05-17T18:30:04.059366",
     "exception": false,
     "start_time": "2022-05-17T18:30:03.994229",
     "status": "completed"
    },
    "tags": []
   },
   "outputs": [
    {
     "data": {
      "text/html": [
       "<div>\n",
       "<style scoped>\n",
       "    .dataframe tbody tr th:only-of-type {\n",
       "        vertical-align: middle;\n",
       "    }\n",
       "\n",
       "    .dataframe tbody tr th {\n",
       "        vertical-align: top;\n",
       "    }\n",
       "\n",
       "    .dataframe thead th {\n",
       "        text-align: right;\n",
       "    }\n",
       "</style>\n",
       "<table border=\"1\" class=\"dataframe\">\n",
       "  <thead>\n",
       "    <tr style=\"text-align: right;\">\n",
       "      <th></th>\n",
       "      <th>label</th>\n",
       "      <th>pixel1</th>\n",
       "      <th>pixel2</th>\n",
       "      <th>pixel3</th>\n",
       "      <th>pixel4</th>\n",
       "      <th>pixel5</th>\n",
       "      <th>pixel6</th>\n",
       "      <th>pixel7</th>\n",
       "      <th>pixel8</th>\n",
       "      <th>pixel9</th>\n",
       "      <th>...</th>\n",
       "      <th>pixel775</th>\n",
       "      <th>pixel776</th>\n",
       "      <th>pixel777</th>\n",
       "      <th>pixel778</th>\n",
       "      <th>pixel779</th>\n",
       "      <th>pixel780</th>\n",
       "      <th>pixel781</th>\n",
       "      <th>pixel782</th>\n",
       "      <th>pixel783</th>\n",
       "      <th>pixel784</th>\n",
       "    </tr>\n",
       "  </thead>\n",
       "  <tbody>\n",
       "    <tr>\n",
       "      <th>0</th>\n",
       "      <td>3</td>\n",
       "      <td>107</td>\n",
       "      <td>118</td>\n",
       "      <td>127</td>\n",
       "      <td>134</td>\n",
       "      <td>139</td>\n",
       "      <td>143</td>\n",
       "      <td>146</td>\n",
       "      <td>150</td>\n",
       "      <td>153</td>\n",
       "      <td>...</td>\n",
       "      <td>207</td>\n",
       "      <td>207</td>\n",
       "      <td>207</td>\n",
       "      <td>207</td>\n",
       "      <td>206</td>\n",
       "      <td>206</td>\n",
       "      <td>206</td>\n",
       "      <td>204</td>\n",
       "      <td>203</td>\n",
       "      <td>202</td>\n",
       "    </tr>\n",
       "    <tr>\n",
       "      <th>1</th>\n",
       "      <td>6</td>\n",
       "      <td>155</td>\n",
       "      <td>157</td>\n",
       "      <td>156</td>\n",
       "      <td>156</td>\n",
       "      <td>156</td>\n",
       "      <td>157</td>\n",
       "      <td>156</td>\n",
       "      <td>158</td>\n",
       "      <td>158</td>\n",
       "      <td>...</td>\n",
       "      <td>69</td>\n",
       "      <td>149</td>\n",
       "      <td>128</td>\n",
       "      <td>87</td>\n",
       "      <td>94</td>\n",
       "      <td>163</td>\n",
       "      <td>175</td>\n",
       "      <td>103</td>\n",
       "      <td>135</td>\n",
       "      <td>149</td>\n",
       "    </tr>\n",
       "    <tr>\n",
       "      <th>2</th>\n",
       "      <td>2</td>\n",
       "      <td>187</td>\n",
       "      <td>188</td>\n",
       "      <td>188</td>\n",
       "      <td>187</td>\n",
       "      <td>187</td>\n",
       "      <td>186</td>\n",
       "      <td>187</td>\n",
       "      <td>188</td>\n",
       "      <td>187</td>\n",
       "      <td>...</td>\n",
       "      <td>202</td>\n",
       "      <td>201</td>\n",
       "      <td>200</td>\n",
       "      <td>199</td>\n",
       "      <td>198</td>\n",
       "      <td>199</td>\n",
       "      <td>198</td>\n",
       "      <td>195</td>\n",
       "      <td>194</td>\n",
       "      <td>195</td>\n",
       "    </tr>\n",
       "    <tr>\n",
       "      <th>3</th>\n",
       "      <td>2</td>\n",
       "      <td>211</td>\n",
       "      <td>211</td>\n",
       "      <td>212</td>\n",
       "      <td>212</td>\n",
       "      <td>211</td>\n",
       "      <td>210</td>\n",
       "      <td>211</td>\n",
       "      <td>210</td>\n",
       "      <td>210</td>\n",
       "      <td>...</td>\n",
       "      <td>235</td>\n",
       "      <td>234</td>\n",
       "      <td>233</td>\n",
       "      <td>231</td>\n",
       "      <td>230</td>\n",
       "      <td>226</td>\n",
       "      <td>225</td>\n",
       "      <td>222</td>\n",
       "      <td>229</td>\n",
       "      <td>163</td>\n",
       "    </tr>\n",
       "    <tr>\n",
       "      <th>4</th>\n",
       "      <td>13</td>\n",
       "      <td>164</td>\n",
       "      <td>167</td>\n",
       "      <td>170</td>\n",
       "      <td>172</td>\n",
       "      <td>176</td>\n",
       "      <td>179</td>\n",
       "      <td>180</td>\n",
       "      <td>184</td>\n",
       "      <td>185</td>\n",
       "      <td>...</td>\n",
       "      <td>92</td>\n",
       "      <td>105</td>\n",
       "      <td>105</td>\n",
       "      <td>108</td>\n",
       "      <td>133</td>\n",
       "      <td>163</td>\n",
       "      <td>157</td>\n",
       "      <td>163</td>\n",
       "      <td>164</td>\n",
       "      <td>179</td>\n",
       "    </tr>\n",
       "    <tr>\n",
       "      <th>5</th>\n",
       "      <td>16</td>\n",
       "      <td>161</td>\n",
       "      <td>168</td>\n",
       "      <td>172</td>\n",
       "      <td>173</td>\n",
       "      <td>178</td>\n",
       "      <td>184</td>\n",
       "      <td>189</td>\n",
       "      <td>193</td>\n",
       "      <td>196</td>\n",
       "      <td>...</td>\n",
       "      <td>76</td>\n",
       "      <td>74</td>\n",
       "      <td>68</td>\n",
       "      <td>62</td>\n",
       "      <td>53</td>\n",
       "      <td>55</td>\n",
       "      <td>48</td>\n",
       "      <td>238</td>\n",
       "      <td>255</td>\n",
       "      <td>255</td>\n",
       "    </tr>\n",
       "  </tbody>\n",
       "</table>\n",
       "<p>6 rows × 785 columns</p>\n",
       "</div>"
      ],
      "text/plain": [
       "   label  pixel1  pixel2  pixel3  pixel4  pixel5  pixel6  pixel7  pixel8  \\\n",
       "0      3     107     118     127     134     139     143     146     150   \n",
       "1      6     155     157     156     156     156     157     156     158   \n",
       "2      2     187     188     188     187     187     186     187     188   \n",
       "3      2     211     211     212     212     211     210     211     210   \n",
       "4     13     164     167     170     172     176     179     180     184   \n",
       "5     16     161     168     172     173     178     184     189     193   \n",
       "\n",
       "   pixel9  ...  pixel775  pixel776  pixel777  pixel778  pixel779  pixel780  \\\n",
       "0     153  ...       207       207       207       207       206       206   \n",
       "1     158  ...        69       149       128        87        94       163   \n",
       "2     187  ...       202       201       200       199       198       199   \n",
       "3     210  ...       235       234       233       231       230       226   \n",
       "4     185  ...        92       105       105       108       133       163   \n",
       "5     196  ...        76        74        68        62        53        55   \n",
       "\n",
       "   pixel781  pixel782  pixel783  pixel784  \n",
       "0       206       204       203       202  \n",
       "1       175       103       135       149  \n",
       "2       198       195       194       195  \n",
       "3       225       222       229       163  \n",
       "4       157       163       164       179  \n",
       "5        48       238       255       255  \n",
       "\n",
       "[6 rows x 785 columns]"
      ]
     },
     "execution_count": 6,
     "metadata": {},
     "output_type": "execute_result"
    }
   ],
   "source": [
    "train.head(6)            "
   ]
  },
  {
   "cell_type": "code",
   "execution_count": 7,
   "id": "a07a2e2f",
   "metadata": {
    "execution": {
     "iopub.execute_input": "2022-05-17T18:30:04.151502Z",
     "iopub.status.busy": "2022-05-17T18:30:04.151208Z",
     "iopub.status.idle": "2022-05-17T18:30:04.158821Z",
     "shell.execute_reply": "2022-05-17T18:30:04.158225Z"
    },
    "papermill": {
     "duration": 0.0558,
     "end_time": "2022-05-17T18:30:04.160642",
     "exception": false,
     "start_time": "2022-05-17T18:30:04.104842",
     "status": "completed"
    },
    "tags": []
   },
   "outputs": [
    {
     "data": {
      "text/plain": [
       "array([ 0,  1,  2,  3,  4,  5,  6,  7,  8, 10, 11, 12, 13, 14, 15, 16, 17,\n",
       "       18, 19, 20, 21, 22, 23, 24])"
      ]
     },
     "execution_count": 7,
     "metadata": {},
     "output_type": "execute_result"
    }
   ],
   "source": [
    "labels = train['label'].values\n",
    "\n",
    "unique_values = np.array(labels)\n",
    "np.unique(unique_values)"
   ]
  },
  {
   "cell_type": "markdown",
   "id": "d45dcde2",
   "metadata": {
    "papermill": {
     "duration": 0.045451,
     "end_time": "2022-05-17T18:30:04.251674",
     "exception": false,
     "start_time": "2022-05-17T18:30:04.206223",
     "status": "completed"
    },
    "tags": []
   },
   "source": [
    "The spread of all labels across the testing dataset"
   ]
  },
  {
   "cell_type": "code",
   "execution_count": 8,
   "id": "717b0e09",
   "metadata": {
    "execution": {
     "iopub.execute_input": "2022-05-17T18:30:04.345135Z",
     "iopub.status.busy": "2022-05-17T18:30:04.344193Z",
     "iopub.status.idle": "2022-05-17T18:30:04.645987Z",
     "shell.execute_reply": "2022-05-17T18:30:04.644942Z"
    },
    "papermill": {
     "duration": 0.351466,
     "end_time": "2022-05-17T18:30:04.648480",
     "exception": false,
     "start_time": "2022-05-17T18:30:04.297014",
     "status": "completed"
    },
    "tags": []
   },
   "outputs": [
    {
     "data": {
      "text/plain": [
       "<AxesSubplot:ylabel='count'>"
      ]
     },
     "execution_count": 8,
     "metadata": {},
     "output_type": "execute_result"
    },
    {
     "data": {
      "image/png": "[encoded data removed]",
      "text/plain": [
       "<Figure size 1296x576 with 1 Axes>"
      ]
     },
     "metadata": {
      "needs_background": "light"
     },
     "output_type": "display_data"
    }
   ],
   "source": [
    "plt.figure(figsize = (18,8))\n",
    "sns.countplot(x =labels)"
   ]
  },
  {
   "cell_type": "markdown",
   "id": "b0a94060",
   "metadata": {
    "execution": {
     "iopub.execute_input": "2022-05-08T19:57:10.289114Z",
     "iopub.status.busy": "2022-05-08T19:57:10.288794Z",
     "iopub.status.idle": "2022-05-08T19:57:10.293222Z",
     "shell.execute_reply": "2022-05-08T19:57:10.292221Z",
     "shell.execute_reply.started": "2022-05-08T19:57:10.289071Z"
    },
    "papermill": {
     "duration": 0.043422,
     "end_time": "2022-05-17T18:30:04.736325",
     "exception": false,
     "start_time": "2022-05-17T18:30:04.692903",
     "status": "completed"
    },
    "tags": []
   },
   "source": [
    "# DATA PREPROCESSING AND ANALYSIS"
   ]
  },
  {
   "cell_type": "markdown",
   "id": "67b18acd",
   "metadata": {
    "papermill": {
     "duration": 0.046263,
     "end_time": "2022-05-17T18:30:04.826160",
     "exception": false,
     "start_time": "2022-05-17T18:30:04.779897",
     "status": "completed"
    },
    "tags": []
   },
   "source": [
    "The given MNIST dataset format is created to be as similar to the classic MNIST as possible. Each training and test case represents a label (0-25) as a one-to-one map for each alphabetic letters A-Z (and no cases for J = 9 or Z = 25 because of the necessity of gesture motions). The training data (27,455 cases) and test data (7172 cases) are approximately half the size of the standard MNIST handwritten digit dataset but otherwise similar with a header row of label, pixel 1,pixel 2….pixel 784 which represent a single 28x28 pixel image with grayscale values between 0-255."
   ]
  },
  {
   "cell_type": "markdown",
   "id": "25d46fb7",
   "metadata": {
    "papermill": {
     "duration": 0.046115,
     "end_time": "2022-05-17T18:30:04.919094",
     "exception": false,
     "start_time": "2022-05-17T18:30:04.872979",
     "status": "completed"
    },
    "tags": []
   },
   "source": [
    "The train dataset consit of 1st column representing labels 0 to 24. The label is loaded in a seperate dataframe called 'train_label' and the 'label' column is dropped from the original training dataframe which now consist of only 784 pixel values for each image."
   ]
  },
  {
   "cell_type": "code",
   "execution_count": 9,
   "id": "614ba1f8",
   "metadata": {
    "execution": {
     "iopub.execute_input": "2022-05-17T18:30:05.014598Z",
     "iopub.status.busy": "2022-05-17T18:30:05.014327Z",
     "iopub.status.idle": "2022-05-17T18:30:05.021334Z",
     "shell.execute_reply": "2022-05-17T18:30:05.020483Z"
    },
    "papermill": {
     "duration": 0.05718,
     "end_time": "2022-05-17T18:30:05.023079",
     "exception": false,
     "start_time": "2022-05-17T18:30:04.965899",
     "status": "completed"
    },
    "tags": []
   },
   "outputs": [
    {
     "data": {
      "text/plain": [
       "0     3\n",
       "1     6\n",
       "2     2\n",
       "3     2\n",
       "4    13\n",
       "Name: label, dtype: int64"
      ]
     },
     "execution_count": 9,
     "metadata": {},
     "output_type": "execute_result"
    }
   ],
   "source": [
    "train_label=train['label']         # contains set of all label values in order\n",
    "train_label.head()"
   ]
  },
  {
   "cell_type": "code",
   "execution_count": 10,
   "id": "ae633c3a",
   "metadata": {
    "execution": {
     "iopub.execute_input": "2022-05-17T18:30:05.119501Z",
     "iopub.status.busy": "2022-05-17T18:30:05.119085Z",
     "iopub.status.idle": "2022-05-17T18:30:05.164391Z",
     "shell.execute_reply": "2022-05-17T18:30:05.163700Z"
    },
    "papermill": {
     "duration": 0.095891,
     "end_time": "2022-05-17T18:30:05.166272",
     "exception": false,
     "start_time": "2022-05-17T18:30:05.070381",
     "status": "completed"
    },
    "tags": []
   },
   "outputs": [
    {
     "data": {
      "text/html": [
       "<div>\n",
       "<style scoped>\n",
       "    .dataframe tbody tr th:only-of-type {\n",
       "        vertical-align: middle;\n",
       "    }\n",
       "\n",
       "    .dataframe tbody tr th {\n",
       "        vertical-align: top;\n",
       "    }\n",
       "\n",
       "    .dataframe thead th {\n",
       "        text-align: right;\n",
       "    }\n",
       "</style>\n",
       "<table border=\"1\" class=\"dataframe\">\n",
       "  <thead>\n",
       "    <tr style=\"text-align: right;\">\n",
       "      <th></th>\n",
       "      <th>pixel1</th>\n",
       "      <th>pixel2</th>\n",
       "      <th>pixel3</th>\n",
       "      <th>pixel4</th>\n",
       "      <th>pixel5</th>\n",
       "      <th>pixel6</th>\n",
       "      <th>pixel7</th>\n",
       "      <th>pixel8</th>\n",
       "      <th>pixel9</th>\n",
       "      <th>pixel10</th>\n",
       "      <th>...</th>\n",
       "      <th>pixel775</th>\n",
       "      <th>pixel776</th>\n",
       "      <th>pixel777</th>\n",
       "      <th>pixel778</th>\n",
       "      <th>pixel779</th>\n",
       "      <th>pixel780</th>\n",
       "      <th>pixel781</th>\n",
       "      <th>pixel782</th>\n",
       "      <th>pixel783</th>\n",
       "      <th>pixel784</th>\n",
       "    </tr>\n",
       "  </thead>\n",
       "  <tbody>\n",
       "    <tr>\n",
       "      <th>0</th>\n",
       "      <td>107</td>\n",
       "      <td>118</td>\n",
       "      <td>127</td>\n",
       "      <td>134</td>\n",
       "      <td>139</td>\n",
       "      <td>143</td>\n",
       "      <td>146</td>\n",
       "      <td>150</td>\n",
       "      <td>153</td>\n",
       "      <td>156</td>\n",
       "      <td>...</td>\n",
       "      <td>207</td>\n",
       "      <td>207</td>\n",
       "      <td>207</td>\n",
       "      <td>207</td>\n",
       "      <td>206</td>\n",
       "      <td>206</td>\n",
       "      <td>206</td>\n",
       "      <td>204</td>\n",
       "      <td>203</td>\n",
       "      <td>202</td>\n",
       "    </tr>\n",
       "    <tr>\n",
       "      <th>1</th>\n",
       "      <td>155</td>\n",
       "      <td>157</td>\n",
       "      <td>156</td>\n",
       "      <td>156</td>\n",
       "      <td>156</td>\n",
       "      <td>157</td>\n",
       "      <td>156</td>\n",
       "      <td>158</td>\n",
       "      <td>158</td>\n",
       "      <td>157</td>\n",
       "      <td>...</td>\n",
       "      <td>69</td>\n",
       "      <td>149</td>\n",
       "      <td>128</td>\n",
       "      <td>87</td>\n",
       "      <td>94</td>\n",
       "      <td>163</td>\n",
       "      <td>175</td>\n",
       "      <td>103</td>\n",
       "      <td>135</td>\n",
       "      <td>149</td>\n",
       "    </tr>\n",
       "    <tr>\n",
       "      <th>2</th>\n",
       "      <td>187</td>\n",
       "      <td>188</td>\n",
       "      <td>188</td>\n",
       "      <td>187</td>\n",
       "      <td>187</td>\n",
       "      <td>186</td>\n",
       "      <td>187</td>\n",
       "      <td>188</td>\n",
       "      <td>187</td>\n",
       "      <td>186</td>\n",
       "      <td>...</td>\n",
       "      <td>202</td>\n",
       "      <td>201</td>\n",
       "      <td>200</td>\n",
       "      <td>199</td>\n",
       "      <td>198</td>\n",
       "      <td>199</td>\n",
       "      <td>198</td>\n",
       "      <td>195</td>\n",
       "      <td>194</td>\n",
       "      <td>195</td>\n",
       "    </tr>\n",
       "    <tr>\n",
       "      <th>3</th>\n",
       "      <td>211</td>\n",
       "      <td>211</td>\n",
       "      <td>212</td>\n",
       "      <td>212</td>\n",
       "      <td>211</td>\n",
       "      <td>210</td>\n",
       "      <td>211</td>\n",
       "      <td>210</td>\n",
       "      <td>210</td>\n",
       "      <td>211</td>\n",
       "      <td>...</td>\n",
       "      <td>235</td>\n",
       "      <td>234</td>\n",
       "      <td>233</td>\n",
       "      <td>231</td>\n",
       "      <td>230</td>\n",
       "      <td>226</td>\n",
       "      <td>225</td>\n",
       "      <td>222</td>\n",
       "      <td>229</td>\n",
       "      <td>163</td>\n",
       "    </tr>\n",
       "    <tr>\n",
       "      <th>4</th>\n",
       "      <td>164</td>\n",
       "      <td>167</td>\n",
       "      <td>170</td>\n",
       "      <td>172</td>\n",
       "      <td>176</td>\n",
       "      <td>179</td>\n",
       "      <td>180</td>\n",
       "      <td>184</td>\n",
       "      <td>185</td>\n",
       "      <td>186</td>\n",
       "      <td>...</td>\n",
       "      <td>92</td>\n",
       "      <td>105</td>\n",
       "      <td>105</td>\n",
       "      <td>108</td>\n",
       "      <td>133</td>\n",
       "      <td>163</td>\n",
       "      <td>157</td>\n",
       "      <td>163</td>\n",
       "      <td>164</td>\n",
       "      <td>179</td>\n",
       "    </tr>\n",
       "  </tbody>\n",
       "</table>\n",
       "<p>5 rows × 784 columns</p>\n",
       "</div>"
      ],
      "text/plain": [
       "   pixel1  pixel2  pixel3  pixel4  pixel5  pixel6  pixel7  pixel8  pixel9  \\\n",
       "0     107     118     127     134     139     143     146     150     153   \n",
       "1     155     157     156     156     156     157     156     158     158   \n",
       "2     187     188     188     187     187     186     187     188     187   \n",
       "3     211     211     212     212     211     210     211     210     210   \n",
       "4     164     167     170     172     176     179     180     184     185   \n",
       "\n",
       "   pixel10  ...  pixel775  pixel776  pixel777  pixel778  pixel779  pixel780  \\\n",
       "0      156  ...       207       207       207       207       206       206   \n",
       "1      157  ...        69       149       128        87        94       163   \n",
       "2      186  ...       202       201       200       199       198       199   \n",
       "3      211  ...       235       234       233       231       230       226   \n",
       "4      186  ...        92       105       105       108       133       163   \n",
       "\n",
       "   pixel781  pixel782  pixel783  pixel784  \n",
       "0       206       204       203       202  \n",
       "1       175       103       135       149  \n",
       "2       198       195       194       195  \n",
       "3       225       222       229       163  \n",
       "4       157       163       164       179  \n",
       "\n",
       "[5 rows x 784 columns]"
      ]
     },
     "execution_count": 10,
     "metadata": {},
     "output_type": "execute_result"
    }
   ],
   "source": [
    "trainset=train.drop(['label'],axis=1)\n",
    "trainset.head()                         #contains set of all pixel values in order"
   ]
  },
  {
   "cell_type": "markdown",
   "id": "33a89f3a",
   "metadata": {
    "papermill": {
     "duration": 0.048612,
     "end_time": "2022-05-17T18:30:05.263039",
     "exception": false,
     "start_time": "2022-05-17T18:30:05.214427",
     "status": "completed"
    },
    "tags": []
   },
   "source": [
    "Converting the dataframe to numpy array type to be used while training the CNN. The array is converted from 1-D to 3-D which is the required input to the first layer of the CNN. Similar preprocessing is done to the test dataframe."
   ]
  },
  {
   "cell_type": "code",
   "execution_count": 11,
   "id": "a4a59fb3",
   "metadata": {
    "execution": {
     "iopub.execute_input": "2022-05-17T18:30:05.360190Z",
     "iopub.status.busy": "2022-05-17T18:30:05.359730Z",
     "iopub.status.idle": "2022-05-17T18:30:05.365491Z",
     "shell.execute_reply": "2022-05-17T18:30:05.364298Z"
    },
    "papermill": {
     "duration": 0.057211,
     "end_time": "2022-05-17T18:30:05.368025",
     "exception": false,
     "start_time": "2022-05-17T18:30:05.310814",
     "status": "completed"
    },
    "tags": []
   },
   "outputs": [
    {
     "name": "stdout",
     "output_type": "stream",
     "text": [
      "(27455, 28, 28, 1)\n"
     ]
    }
   ],
   "source": [
    "x_train = trainset.values.reshape(-1,28,28,1)\n",
    "print(x_train.shape)"
   ]
  },
  {
   "cell_type": "markdown",
   "id": "1adf42bb",
   "metadata": {
    "papermill": {
     "duration": 0.049292,
     "end_time": "2022-05-17T18:30:05.466780",
     "exception": false,
     "start_time": "2022-05-17T18:30:05.417488",
     "status": "completed"
    },
    "tags": []
   },
   "source": [
    "Now, we must perform the same data preprocessing steps for the test dataset"
   ]
  },
  {
   "cell_type": "code",
   "execution_count": 12,
   "id": "a2b9f0fa",
   "metadata": {
    "execution": {
     "iopub.execute_input": "2022-05-17T18:30:05.568641Z",
     "iopub.status.busy": "2022-05-17T18:30:05.568154Z",
     "iopub.status.idle": "2022-05-17T18:30:05.598042Z",
     "shell.execute_reply": "2022-05-17T18:30:05.597142Z"
    },
    "papermill": {
     "duration": 0.083477,
     "end_time": "2022-05-17T18:30:05.599931",
     "exception": false,
     "start_time": "2022-05-17T18:30:05.516454",
     "status": "completed"
    },
    "tags": []
   },
   "outputs": [
    {
     "name": "stdout",
     "output_type": "stream",
     "text": [
      "(7172, 784)\n"
     ]
    },
    {
     "data": {
      "text/html": [
       "<div>\n",
       "<style scoped>\n",
       "    .dataframe tbody tr th:only-of-type {\n",
       "        vertical-align: middle;\n",
       "    }\n",
       "\n",
       "    .dataframe tbody tr th {\n",
       "        vertical-align: top;\n",
       "    }\n",
       "\n",
       "    .dataframe thead th {\n",
       "        text-align: right;\n",
       "    }\n",
       "</style>\n",
       "<table border=\"1\" class=\"dataframe\">\n",
       "  <thead>\n",
       "    <tr style=\"text-align: right;\">\n",
       "      <th></th>\n",
       "      <th>pixel1</th>\n",
       "      <th>pixel2</th>\n",
       "      <th>pixel3</th>\n",
       "      <th>pixel4</th>\n",
       "      <th>pixel5</th>\n",
       "      <th>pixel6</th>\n",
       "      <th>pixel7</th>\n",
       "      <th>pixel8</th>\n",
       "      <th>pixel9</th>\n",
       "      <th>pixel10</th>\n",
       "      <th>...</th>\n",
       "      <th>pixel775</th>\n",
       "      <th>pixel776</th>\n",
       "      <th>pixel777</th>\n",
       "      <th>pixel778</th>\n",
       "      <th>pixel779</th>\n",
       "      <th>pixel780</th>\n",
       "      <th>pixel781</th>\n",
       "      <th>pixel782</th>\n",
       "      <th>pixel783</th>\n",
       "      <th>pixel784</th>\n",
       "    </tr>\n",
       "  </thead>\n",
       "  <tbody>\n",
       "    <tr>\n",
       "      <th>0</th>\n",
       "      <td>149</td>\n",
       "      <td>149</td>\n",
       "      <td>150</td>\n",
       "      <td>150</td>\n",
       "      <td>150</td>\n",
       "      <td>151</td>\n",
       "      <td>151</td>\n",
       "      <td>150</td>\n",
       "      <td>151</td>\n",
       "      <td>152</td>\n",
       "      <td>...</td>\n",
       "      <td>138</td>\n",
       "      <td>148</td>\n",
       "      <td>127</td>\n",
       "      <td>89</td>\n",
       "      <td>82</td>\n",
       "      <td>96</td>\n",
       "      <td>106</td>\n",
       "      <td>112</td>\n",
       "      <td>120</td>\n",
       "      <td>107</td>\n",
       "    </tr>\n",
       "    <tr>\n",
       "      <th>1</th>\n",
       "      <td>126</td>\n",
       "      <td>128</td>\n",
       "      <td>131</td>\n",
       "      <td>132</td>\n",
       "      <td>133</td>\n",
       "      <td>134</td>\n",
       "      <td>135</td>\n",
       "      <td>135</td>\n",
       "      <td>136</td>\n",
       "      <td>138</td>\n",
       "      <td>...</td>\n",
       "      <td>47</td>\n",
       "      <td>104</td>\n",
       "      <td>194</td>\n",
       "      <td>183</td>\n",
       "      <td>186</td>\n",
       "      <td>184</td>\n",
       "      <td>184</td>\n",
       "      <td>184</td>\n",
       "      <td>182</td>\n",
       "      <td>180</td>\n",
       "    </tr>\n",
       "    <tr>\n",
       "      <th>2</th>\n",
       "      <td>85</td>\n",
       "      <td>88</td>\n",
       "      <td>92</td>\n",
       "      <td>96</td>\n",
       "      <td>105</td>\n",
       "      <td>123</td>\n",
       "      <td>135</td>\n",
       "      <td>143</td>\n",
       "      <td>147</td>\n",
       "      <td>152</td>\n",
       "      <td>...</td>\n",
       "      <td>68</td>\n",
       "      <td>166</td>\n",
       "      <td>242</td>\n",
       "      <td>227</td>\n",
       "      <td>230</td>\n",
       "      <td>227</td>\n",
       "      <td>226</td>\n",
       "      <td>225</td>\n",
       "      <td>224</td>\n",
       "      <td>222</td>\n",
       "    </tr>\n",
       "    <tr>\n",
       "      <th>3</th>\n",
       "      <td>203</td>\n",
       "      <td>205</td>\n",
       "      <td>207</td>\n",
       "      <td>206</td>\n",
       "      <td>207</td>\n",
       "      <td>209</td>\n",
       "      <td>210</td>\n",
       "      <td>209</td>\n",
       "      <td>210</td>\n",
       "      <td>209</td>\n",
       "      <td>...</td>\n",
       "      <td>154</td>\n",
       "      <td>248</td>\n",
       "      <td>247</td>\n",
       "      <td>248</td>\n",
       "      <td>253</td>\n",
       "      <td>236</td>\n",
       "      <td>230</td>\n",
       "      <td>240</td>\n",
       "      <td>253</td>\n",
       "      <td>255</td>\n",
       "    </tr>\n",
       "    <tr>\n",
       "      <th>4</th>\n",
       "      <td>188</td>\n",
       "      <td>191</td>\n",
       "      <td>193</td>\n",
       "      <td>195</td>\n",
       "      <td>199</td>\n",
       "      <td>201</td>\n",
       "      <td>202</td>\n",
       "      <td>203</td>\n",
       "      <td>203</td>\n",
       "      <td>203</td>\n",
       "      <td>...</td>\n",
       "      <td>26</td>\n",
       "      <td>40</td>\n",
       "      <td>64</td>\n",
       "      <td>48</td>\n",
       "      <td>29</td>\n",
       "      <td>46</td>\n",
       "      <td>49</td>\n",
       "      <td>46</td>\n",
       "      <td>46</td>\n",
       "      <td>53</td>\n",
       "    </tr>\n",
       "  </tbody>\n",
       "</table>\n",
       "<p>5 rows × 784 columns</p>\n",
       "</div>"
      ],
      "text/plain": [
       "   pixel1  pixel2  pixel3  pixel4  pixel5  pixel6  pixel7  pixel8  pixel9  \\\n",
       "0     149     149     150     150     150     151     151     150     151   \n",
       "1     126     128     131     132     133     134     135     135     136   \n",
       "2      85      88      92      96     105     123     135     143     147   \n",
       "3     203     205     207     206     207     209     210     209     210   \n",
       "4     188     191     193     195     199     201     202     203     203   \n",
       "\n",
       "   pixel10  ...  pixel775  pixel776  pixel777  pixel778  pixel779  pixel780  \\\n",
       "0      152  ...       138       148       127        89        82        96   \n",
       "1      138  ...        47       104       194       183       186       184   \n",
       "2      152  ...        68       166       242       227       230       227   \n",
       "3      209  ...       154       248       247       248       253       236   \n",
       "4      203  ...        26        40        64        48        29        46   \n",
       "\n",
       "   pixel781  pixel782  pixel783  pixel784  \n",
       "0       106       112       120       107  \n",
       "1       184       184       182       180  \n",
       "2       226       225       224       222  \n",
       "3       230       240       253       255  \n",
       "4        49        46        46        53  \n",
       "\n",
       "[5 rows x 784 columns]"
      ]
     },
     "execution_count": 12,
     "metadata": {},
     "output_type": "execute_result"
    }
   ],
   "source": [
    "test_label=test['label']\n",
    "x_test=test.drop(['label'],axis=1)\n",
    "\n",
    "print(x_test.shape)\n",
    "x_test.head()"
   ]
  },
  {
   "cell_type": "code",
   "execution_count": 13,
   "id": "1738699e",
   "metadata": {
    "execution": {
     "iopub.execute_input": "2022-05-17T18:30:05.701597Z",
     "iopub.status.busy": "2022-05-17T18:30:05.701370Z",
     "iopub.status.idle": "2022-05-17T18:30:05.706138Z",
     "shell.execute_reply": "2022-05-17T18:30:05.705330Z"
    },
    "papermill": {
     "duration": 0.058059,
     "end_time": "2022-05-17T18:30:05.707949",
     "exception": false,
     "start_time": "2022-05-17T18:30:05.649890",
     "status": "completed"
    },
    "tags": []
   },
   "outputs": [],
   "source": [
    "x_test=x_test.values.reshape(-1,28,28,1)"
   ]
  },
  {
   "cell_type": "markdown",
   "id": "d74ad241",
   "metadata": {
    "papermill": {
     "duration": 0.049376,
     "end_time": "2022-05-17T18:30:05.807123",
     "exception": false,
     "start_time": "2022-05-17T18:30:05.757747",
     "status": "completed"
    },
    "tags": []
   },
   "source": [
    "Now, we perform a grayscale min-max normalization to reduce the effect of illumination's differences. Moreover the CNN converges faster on [0..1] data than on [0..255] data."
   ]
  },
  {
   "cell_type": "code",
   "execution_count": 14,
   "id": "737f8ffa",
   "metadata": {
    "execution": {
     "iopub.execute_input": "2022-05-17T18:30:05.911864Z",
     "iopub.status.busy": "2022-05-17T18:30:05.911386Z",
     "iopub.status.idle": "2022-05-17T18:30:05.971897Z",
     "shell.execute_reply": "2022-05-17T18:30:05.971287Z"
    },
    "papermill": {
     "duration": 0.11485,
     "end_time": "2022-05-17T18:30:05.974157",
     "exception": false,
     "start_time": "2022-05-17T18:30:05.859307",
     "status": "completed"
    },
    "tags": []
   },
   "outputs": [],
   "source": [
    "x_train = x_train / 255\n",
    "x_test = x_test / 255"
   ]
  },
  {
   "cell_type": "markdown",
   "id": "3bc34c36",
   "metadata": {
    "papermill": {
     "duration": 0.051167,
     "end_time": "2022-05-17T18:30:06.076715",
     "exception": false,
     "start_time": "2022-05-17T18:30:06.025548",
     "status": "completed"
    },
    "tags": []
   },
   "source": [
    "### Converting the integer labels (0-24) to binary format"
   ]
  },
  {
   "cell_type": "markdown",
   "id": "4f287b10",
   "metadata": {
    "papermill": {
     "duration": 0.050647,
     "end_time": "2022-05-17T18:30:06.178856",
     "exception": false,
     "start_time": "2022-05-17T18:30:06.128209",
     "status": "completed"
    },
    "tags": []
   },
   "source": [
    "The label dataframe consist of single values from 1 to 24 for each individual picture. The CNN output layer will be of 24 nodes since it has 24 different labels as a multi label classifier. Hence each integer is encoded in a binary array of size 24 with the corresponding label being 1 and all other labels are 0. Such as if y=4 the the array is [0 0 0 1 0 0.....0]. The LabelBinarizer package from sklearn.preprocessing is used for that. "
   ]
  },
  {
   "cell_type": "code",
   "execution_count": 15,
   "id": "b8d62d63",
   "metadata": {
    "execution": {
     "iopub.execute_input": "2022-05-17T18:30:06.282805Z",
     "iopub.status.busy": "2022-05-17T18:30:06.282341Z",
     "iopub.status.idle": "2022-05-17T18:30:06.295852Z",
     "shell.execute_reply": "2022-05-17T18:30:06.295317Z"
    },
    "papermill": {
     "duration": 0.068138,
     "end_time": "2022-05-17T18:30:06.297975",
     "exception": false,
     "start_time": "2022-05-17T18:30:06.229837",
     "status": "completed"
    },
    "tags": []
   },
   "outputs": [],
   "source": [
    "from sklearn.preprocessing import LabelBinarizer\n",
    "lb=LabelBinarizer()\n",
    "\n",
    "y_train=lb.fit_transform(train_label)\n",
    "y_test=lb.fit_transform(test_label)"
   ]
  },
  {
   "cell_type": "code",
   "execution_count": 16,
   "id": "95f96760",
   "metadata": {
    "execution": {
     "iopub.execute_input": "2022-05-17T18:30:06.402035Z",
     "iopub.status.busy": "2022-05-17T18:30:06.401587Z",
     "iopub.status.idle": "2022-05-17T18:30:06.406695Z",
     "shell.execute_reply": "2022-05-17T18:30:06.406189Z"
    },
    "papermill": {
     "duration": 0.059155,
     "end_time": "2022-05-17T18:30:06.408509",
     "exception": false,
     "start_time": "2022-05-17T18:30:06.349354",
     "status": "completed"
    },
    "tags": []
   },
   "outputs": [
    {
     "name": "stdout",
     "output_type": "stream",
     "text": [
      "(27455, 28, 28, 1) (27455, 24) (7172, 28, 28, 1) (7172, 24)\n"
     ]
    }
   ],
   "source": [
    "print(x_train.shape,y_train.shape,x_test.shape,y_test.shape)"
   ]
  },
  {
   "cell_type": "markdown",
   "id": "311df162",
   "metadata": {
    "papermill": {
     "duration": 0.051189,
     "end_time": "2022-05-17T18:30:06.511183",
     "exception": false,
     "start_time": "2022-05-17T18:30:06.459994",
     "status": "completed"
    },
    "tags": []
   },
   "source": [
    "Preview of first 10 images after normalization."
   ]
  },
  {
   "cell_type": "code",
   "execution_count": 17,
   "id": "83a2fc94",
   "metadata": {
    "execution": {
     "iopub.execute_input": "2022-05-17T18:30:06.614646Z",
     "iopub.status.busy": "2022-05-17T18:30:06.613676Z",
     "iopub.status.idle": "2022-05-17T18:30:07.760272Z",
     "shell.execute_reply": "2022-05-17T18:30:07.759447Z"
    },
    "papermill": {
     "duration": 1.200499,
     "end_time": "2022-05-17T18:30:07.762357",
     "exception": false,
     "start_time": "2022-05-17T18:30:06.561858",
     "status": "completed"
    },
    "tags": []
   },
   "outputs": [
    {
     "data": {
      "image/png": "[encoded data removed]",
      "text/plain": [
       "<Figure size 720x720 with 10 Axes>"
      ]
     },
     "metadata": {
      "needs_background": "light"
     },
     "output_type": "display_data"
    }
   ],
   "source": [
    "f, ax = plt.subplots(2,5) \n",
    "f.set_size_inches(10, 10)\n",
    "k = 0\n",
    "for i in range(2):\n",
    "    for j in range(5):\n",
    "        ax[i,j].imshow(x_train[k].reshape(28, 28) , cmap = \"gray\")\n",
    "        k += 1\n",
    "    plt.tight_layout()  "
   ]
  },
  {
   "cell_type": "markdown",
   "id": "1684e495",
   "metadata": {
    "papermill": {
     "duration": 0.051633,
     "end_time": "2022-05-17T18:30:07.865669",
     "exception": false,
     "start_time": "2022-05-17T18:30:07.814036",
     "status": "completed"
    },
    "tags": []
   },
   "source": [
    "# DATA AUGMENTATION"
   ]
  },
  {
   "cell_type": "markdown",
   "id": "f9a12b81",
   "metadata": {
    "papermill": {
     "duration": 0.051218,
     "end_time": "2022-05-17T18:30:07.969298",
     "exception": false,
     "start_time": "2022-05-17T18:30:07.918080",
     "status": "completed"
    },
    "tags": []
   },
   "source": [
    "The performance of the DeepCNN model improves with the amount of given data; for this purpose, we applied the data augmentation technique to expand the size of training data from existing data artifcially. This is mainly done to avoid the overfitting problem. The input data need to be augmented, which involves augmenting the existing dataset with perturbed current images, including scaling and rotating. This is used to expose the neural network to a variety of variations. This way, the neural network is less likely to identify unwanted characteristics in the dataset.\n",
    "\n",
    "A few augmentation techniques used are grayscales, horizontal flips, vertical flips, random crops, color jitters, translations, rotations, etc.\n",
    "By applying just a couple of these transformations to our training data, we can easily double or triple the number of training examples and create a very robust model.\n",
    "\n",
    "ImageDataGenerator package from keras.preprocessing.image allows to add different distortions to image dataset by providing random rotation, zoom in/out , height or width scaling etc to images pixel by pixel."
   ]
  },
  {
   "cell_type": "code",
   "execution_count": 18,
   "id": "41095241",
   "metadata": {
    "execution": {
     "iopub.execute_input": "2022-05-17T18:30:08.074203Z",
     "iopub.status.busy": "2022-05-17T18:30:08.073744Z",
     "iopub.status.idle": "2022-05-17T18:30:08.117509Z",
     "shell.execute_reply": "2022-05-17T18:30:08.116926Z"
    },
    "papermill": {
     "duration": 0.098866,
     "end_time": "2022-05-17T18:30:08.119701",
     "exception": false,
     "start_time": "2022-05-17T18:30:08.020835",
     "status": "completed"
    },
    "tags": []
   },
   "outputs": [],
   "source": [
    "datagen = ImageDataGenerator(\n",
    "        featurewise_center=False,                 # set input mean to 0 over the dataset\n",
    "        samplewise_center=False,                  # set each sample mean to 0\n",
    "        featurewise_std_normalization=False,      # divide inputs by std of the dataset\n",
    "        samplewise_std_normalization=False,       # divide each input by its std\n",
    "        zca_whitening=False,                      # apply ZCA whitening\n",
    "        rotation_range=10,                        # randomly rotate images in the range (degrees, 0 to 180) - 1\n",
    "        zoom_range = 0.1,                         # Randomly zoom image - 2\n",
    "        width_shift_range=0.1,                    # randomly shift images horizontally (fraction of total width) - 3\n",
    "        height_shift_range=0.1,                   # randomly shift images vertically (fraction of total height) - 4\n",
    "        horizontal_flip=False,                    # randomly flip images -5\n",
    "        vertical_flip=False)                      # randomly flip images - 6\n",
    "\n",
    "\n",
    "datagen.fit(x_train)"
   ]
  },
  {
   "cell_type": "markdown",
   "id": "6ff66a61",
   "metadata": {
    "papermill": {
     "duration": 0.050808,
     "end_time": "2022-05-17T18:30:08.221651",
     "exception": false,
     "start_time": "2022-05-17T18:30:08.170843",
     "status": "completed"
    },
    "tags": []
   },
   "source": [
    "We have randomly rotated some training images by 10 degrees (1), and some have been randomly zoomed by 10% (2). We have randomly shifted images horizontally by 10% of the width (3) and again randomly shifted images vertically by 10% of the height (4). We have not applied a vertical_flip (6) and horizontal_flip (5) since it may lead to misclassification."
   ]
  },
  {
   "cell_type": "markdown",
   "id": "54066a50",
   "metadata": {
    "papermill": {
     "duration": 0.050609,
     "end_time": "2022-05-17T18:30:08.323183",
     "exception": false,
     "start_time": "2022-05-17T18:30:08.272574",
     "status": "completed"
    },
    "tags": []
   },
   "source": [
    "# CONVOLUTIONAL NEURAL NETWORK (DeepCNN)"
   ]
  },
  {
   "cell_type": "code",
   "execution_count": 19,
   "id": "7863caad",
   "metadata": {
    "execution": {
     "iopub.execute_input": "2022-05-17T18:30:08.430073Z",
     "iopub.status.busy": "2022-05-17T18:30:08.429639Z",
     "iopub.status.idle": "2022-05-17T18:30:08.434623Z",
     "shell.execute_reply": "2022-05-17T18:30:08.433973Z"
    },
    "papermill": {
     "duration": 0.062182,
     "end_time": "2022-05-17T18:30:08.436684",
     "exception": false,
     "start_time": "2022-05-17T18:30:08.374502",
     "status": "completed"
    },
    "tags": []
   },
   "outputs": [],
   "source": [
    "# Reducing learning rate\n",
    "learning_rate_reduction = ReduceLROnPlateau(monitor='val_accuracy', patience = 2, verbose=1,factor=0.5, min_lr=0.00001)"
   ]
  },
  {
   "cell_type": "code",
   "execution_count": 20,
   "id": "b827476c",
   "metadata": {
    "execution": {
     "iopub.execute_input": "2022-05-17T18:30:08.543477Z",
     "iopub.status.busy": "2022-05-17T18:30:08.543195Z",
     "iopub.status.idle": "2022-05-17T18:30:08.756469Z",
     "shell.execute_reply": "2022-05-17T18:30:08.754854Z"
    },
    "papermill": {
     "duration": 0.270199,
     "end_time": "2022-05-17T18:30:08.758543",
     "exception": false,
     "start_time": "2022-05-17T18:30:08.488344",
     "status": "completed"
    },
    "tags": []
   },
   "outputs": [
    {
     "name": "stdout",
     "output_type": "stream",
     "text": [
      "Model: \"sequential\"\n",
      "_________________________________________________________________\n",
      "Layer (type)                 Output Shape              Param #   \n",
      "=================================================================\n",
      "conv2d (Conv2D)              (None, 28, 28, 75)        750       \n",
      "_________________________________________________________________\n",
      "batch_normalization (BatchNo (None, 28, 28, 75)        300       \n",
      "_________________________________________________________________\n",
      "max_pooling2d (MaxPooling2D) (None, 14, 14, 75)        0         \n",
      "_________________________________________________________________\n",
      "conv2d_1 (Conv2D)            (None, 14, 14, 50)        33800     \n",
      "_________________________________________________________________\n",
      "dropout (Dropout)            (None, 14, 14, 50)        0         \n",
      "_________________________________________________________________\n",
      "batch_normalization_1 (Batch (None, 14, 14, 50)        200       \n",
      "_________________________________________________________________\n",
      "max_pooling2d_1 (MaxPooling2 (None, 7, 7, 50)          0         \n",
      "_________________________________________________________________\n",
      "conv2d_2 (Conv2D)            (None, 7, 7, 25)          11275     \n",
      "_________________________________________________________________\n",
      "batch_normalization_2 (Batch (None, 7, 7, 25)          100       \n",
      "_________________________________________________________________\n",
      "max_pooling2d_2 (MaxPooling2 (None, 4, 4, 25)          0         \n",
      "_________________________________________________________________\n",
      "flatten (Flatten)            (None, 400)               0         \n",
      "_________________________________________________________________\n",
      "dense (Dense)                (None, 512)               205312    \n",
      "_________________________________________________________________\n",
      "dropout_1 (Dropout)          (None, 512)               0         \n",
      "_________________________________________________________________\n",
      "dense_1 (Dense)              (None, 24)                12312     \n",
      "=================================================================\n",
      "Total params: 264,049\n",
      "Trainable params: 263,749\n",
      "Non-trainable params: 300\n",
      "_________________________________________________________________\n"
     ]
    },
    {
     "name": "stderr",
     "output_type": "stream",
     "text": [
      "2022-05-17 18:30:08.580011: I tensorflow/core/common_runtime/process_util.cc:146] Creating new thread pool with default inter op setting: 2. Tune using inter_op_parallelism_threads for best performance.\n"
     ]
    }
   ],
   "source": [
    "model = Sequential()\n",
    "\n",
    "# convolution layer\n",
    "\n",
    "# block 1\n",
    "model.add(Conv2D(75 , (3,3) , strides = 1 , padding = 'same' , activation = 'relu' , input_shape = (28,28,1)))\n",
    "model.add(BatchNormalization())\n",
    "model.add(MaxPool2D((2,2) , strides = 2 , padding = 'same'))\n",
    "# block 2\n",
    "model.add(Conv2D(50 , (3,3) , strides = 1 , padding = 'same' , activation = 'relu'))\n",
    "model.add(Dropout(0.2))\n",
    "model.add(BatchNormalization())\n",
    "model.add(MaxPool2D((2,2) , strides = 2 , padding = 'same'))\n",
    "# block 3\n",
    "model.add(Conv2D(25 , (3,3) , strides = 1 , padding = 'same' , activation = 'relu'))\n",
    "model.add(BatchNormalization())\n",
    "model.add(MaxPool2D((2,2) , strides = 2 , padding = 'same'))\n",
    "\n",
    "# fully connected layer\n",
    "\n",
    "# flatten layer\n",
    "model.add(Flatten())\n",
    "# dense layer 1\n",
    "model.add(Dense(units = 512 , activation = 'relu'))\n",
    "model.add(Dropout(0.3))\n",
    "# dense layer 2\n",
    "model.add(Dense(units = 24 , activation = 'softmax'))\n",
    "\n",
    "# compile model\n",
    "model.compile(optimizer = 'adam' , loss = 'categorical_crossentropy' , metrics = ['accuracy'])\n",
    "model.summary()"
   ]
  },
  {
   "cell_type": "code",
   "execution_count": 21,
   "id": "deab22ee",
   "metadata": {
    "execution": {
     "iopub.execute_input": "2022-05-17T18:30:08.866766Z",
     "iopub.status.busy": "2022-05-17T18:30:08.866523Z",
     "iopub.status.idle": "2022-05-17T18:56:55.960461Z",
     "shell.execute_reply": "2022-05-17T18:56:55.959424Z"
    },
    "papermill": {
     "duration": 1607.149997,
     "end_time": "2022-05-17T18:56:55.962138",
     "exception": false,
     "start_time": "2022-05-17T18:30:08.812141",
     "status": "completed"
    },
    "tags": []
   },
   "outputs": [
    {
     "name": "stderr",
     "output_type": "stream",
     "text": [
      "2022-05-17 18:30:09.426604: I tensorflow/compiler/mlir/mlir_graph_optimization_pass.cc:185] None of the MLIR Optimization Passes are enabled (registered 2)\n"
     ]
    },
    {
     "name": "stdout",
     "output_type": "stream",
     "text": [
      "Epoch 1/20\n",
      "215/215 [==============================] - 51s 232ms/step - loss: 1.1040 - accuracy: 0.6529 - val_loss: 3.3647 - val_accuracy: 0.1115\n",
      "Epoch 2/20\n",
      "215/215 [==============================] - 49s 228ms/step - loss: 0.2270 - accuracy: 0.9241 - val_loss: 1.2151 - val_accuracy: 0.5931\n",
      "Epoch 3/20\n",
      "215/215 [==============================] - 50s 232ms/step - loss: 0.1061 - accuracy: 0.9662 - val_loss: 0.1366 - val_accuracy: 0.9544\n",
      "Epoch 4/20\n",
      "215/215 [==============================] - 48s 225ms/step - loss: 0.0672 - accuracy: 0.9783 - val_loss: 0.1311 - val_accuracy: 0.9509\n",
      "Epoch 5/20\n",
      "215/215 [==============================] - 48s 222ms/step - loss: 0.0459 - accuracy: 0.9850 - val_loss: 0.0099 - val_accuracy: 0.9996\n",
      "Epoch 6/20\n",
      "215/215 [==============================] - 49s 227ms/step - loss: 0.0353 - accuracy: 0.9886 - val_loss: 0.6280 - val_accuracy: 0.8154\n",
      "Epoch 7/20\n",
      "215/215 [==============================] - 50s 231ms/step - loss: 0.0338 - accuracy: 0.9889 - val_loss: 0.0722 - val_accuracy: 0.9743\n",
      "\n",
      "Epoch 00007: ReduceLROnPlateau reducing learning rate to 0.0005000000237487257.\n",
      "Epoch 8/20\n",
      "215/215 [==============================] - 50s 231ms/step - loss: 0.0165 - accuracy: 0.9946 - val_loss: 0.0022 - val_accuracy: 0.9999\n",
      "Epoch 9/20\n",
      "215/215 [==============================] - 47s 217ms/step - loss: 0.0130 - accuracy: 0.9959 - val_loss: 0.0024 - val_accuracy: 1.0000\n",
      "Epoch 10/20\n",
      "215/215 [==============================] - 50s 232ms/step - loss: 0.0125 - accuracy: 0.9965 - val_loss: 0.0029 - val_accuracy: 0.9999\n",
      "Epoch 11/20\n",
      "215/215 [==============================] - 49s 228ms/step - loss: 0.0112 - accuracy: 0.9965 - val_loss: 0.0068 - val_accuracy: 0.9979\n",
      "\n",
      "Epoch 00011: ReduceLROnPlateau reducing learning rate to 0.0002500000118743628.\n",
      "Epoch 12/20\n",
      "215/215 [==============================] - 50s 232ms/step - loss: 0.0067 - accuracy: 0.9985 - val_loss: 0.0033 - val_accuracy: 0.9999\n",
      "Epoch 13/20\n",
      "215/215 [==============================] - 49s 227ms/step - loss: 0.0068 - accuracy: 0.9981 - val_loss: 0.0014 - val_accuracy: 0.9999\n",
      "\n",
      "Epoch 00013: ReduceLROnPlateau reducing learning rate to 0.0001250000059371814.\n",
      "Epoch 14/20\n",
      "215/215 [==============================] - 50s 231ms/step - loss: 0.0062 - accuracy: 0.9983 - val_loss: 0.0015 - val_accuracy: 1.0000\n",
      "Epoch 15/20\n",
      "215/215 [==============================] - 50s 233ms/step - loss: 0.0058 - accuracy: 0.9984 - val_loss: 8.6556e-04 - val_accuracy: 1.0000\n",
      "\n",
      "Epoch 00015: ReduceLROnPlateau reducing learning rate to 6.25000029685907e-05.\n",
      "Epoch 16/20\n",
      "215/215 [==============================] - 50s 231ms/step - loss: 0.0048 - accuracy: 0.9988 - val_loss: 0.0012 - val_accuracy: 0.9999\n",
      "Epoch 17/20\n",
      "215/215 [==============================] - 50s 235ms/step - loss: 0.0046 - accuracy: 0.9987 - val_loss: 7.1995e-04 - val_accuracy: 1.0000\n",
      "\n",
      "Epoch 00017: ReduceLROnPlateau reducing learning rate to 3.125000148429535e-05.\n",
      "Epoch 18/20\n",
      "215/215 [==============================] - 50s 231ms/step - loss: 0.0048 - accuracy: 0.9987 - val_loss: 6.5825e-04 - val_accuracy: 1.0000\n",
      "Epoch 19/20\n",
      "215/215 [==============================] - 50s 233ms/step - loss: 0.0043 - accuracy: 0.9987 - val_loss: 7.5374e-04 - val_accuracy: 1.0000\n",
      "\n",
      "Epoch 00019: ReduceLROnPlateau reducing learning rate to 1.5625000742147677e-05.\n",
      "Epoch 20/20\n",
      "215/215 [==============================] - 50s 230ms/step - loss: 0.0044 - accuracy: 0.9987 - val_loss: 7.0403e-04 - val_accuracy: 1.0000\n"
     ]
    }
   ],
   "source": [
    "history = model.fit(datagen.flow(x_train,y_train, batch_size = 128) ,epochs = 20 , validation_data = (x_test, y_test) , callbacks = [learning_rate_reduction])"
   ]
  },
  {
   "cell_type": "code",
   "execution_count": 22,
   "id": "b8a74f7c",
   "metadata": {
    "execution": {
     "iopub.execute_input": "2022-05-17T18:56:58.720748Z",
     "iopub.status.busy": "2022-05-17T18:56:58.720110Z",
     "iopub.status.idle": "2022-05-17T18:57:03.278723Z",
     "shell.execute_reply": "2022-05-17T18:57:03.277580Z"
    },
    "papermill": {
     "duration": 5.946017,
     "end_time": "2022-05-17T18:57:03.280591",
     "exception": false,
     "start_time": "2022-05-17T18:56:57.334574",
     "status": "completed"
    },
    "tags": []
   },
   "outputs": [
    {
     "name": "stdout",
     "output_type": "stream",
     "text": [
      "225/225 [==============================] - 5s 20ms/step - loss: 7.0403e-04 - accuracy: 1.0000\n",
      "Accuracy of the model is -  100.0 %\n"
     ]
    }
   ],
   "source": [
    "print(\"Accuracy of the model is - \" , model.evaluate(x_test,y_test)[1]*100 , \"%\")"
   ]
  },
  {
   "cell_type": "code",
   "execution_count": 23,
   "id": "eebf49d7",
   "metadata": {
    "execution": {
     "iopub.execute_input": "2022-05-17T18:57:06.005542Z",
     "iopub.status.busy": "2022-05-17T18:57:06.005286Z",
     "iopub.status.idle": "2022-05-17T18:57:06.362684Z",
     "shell.execute_reply": "2022-05-17T18:57:06.361754Z"
    },
    "papermill": {
     "duration": 1.717166,
     "end_time": "2022-05-17T18:57:06.364692",
     "exception": false,
     "start_time": "2022-05-17T18:57:04.647526",
     "status": "completed"
    },
    "tags": []
   },
   "outputs": [
    {
     "data": {
      "image/png": "[encoded data removed]",
      "text/plain": [
       "<Figure size 1152x648 with 2 Axes>"
      ]
     },
     "metadata": {
      "needs_background": "light"
     },
     "output_type": "display_data"
    }
   ],
   "source": [
    "epochs = [i for i in range(20)]\n",
    "fig , ax = plt.subplots(1,2)\n",
    "train_acc = history.history['accuracy']\n",
    "train_loss = history.history['loss']\n",
    "val_acc = history.history['val_accuracy']\n",
    "val_loss = history.history['val_loss']\n",
    "fig.set_size_inches(16,9)\n",
    "\n",
    "ax[0].plot(epochs , train_acc , 'go-' , label = 'Training Accuracy')\n",
    "ax[0].plot(epochs , val_acc , 'ro-' , label = 'Testing Accuracy')\n",
    "ax[0].set_title('Training & Validation Accuracy')\n",
    "ax[0].legend()\n",
    "ax[0].set_xlabel(\"Epochs\")\n",
    "ax[0].set_ylabel(\"Accuracy\")\n",
    "\n",
    "ax[1].plot(epochs , train_loss , 'g-o' , label = 'Training Loss')\n",
    "ax[1].plot(epochs , val_loss , 'r-o' , label = 'Testing Loss')\n",
    "ax[1].set_title('Testing Accuracy & Loss')\n",
    "ax[1].legend()\n",
    "ax[1].set_xlabel(\"Epochs\")\n",
    "ax[1].set_ylabel(\"Loss\")\n",
    "plt.show()\n"
   ]
  },
  {
   "cell_type": "code",
   "execution_count": null,
   "id": "08431ca2",
   "metadata": {
    "papermill": {
     "duration": 1.363389,
     "end_time": "2022-05-17T18:57:09.082661",
     "exception": false,
     "start_time": "2022-05-17T18:57:07.719272",
     "status": "completed"
    },
    "tags": []
   },
   "outputs": [],
   "source": []
  }
 ],
 "metadata": {
  "kernelspec": {
   "display_name": "Python 3",
   "language": "python",
   "name": "python3"
  },
  "language_info": {
   "codemirror_mode": {
    "name": "ipython",
    "version": 3
   },
   "file_extension": ".py",
   "mimetype": "text/x-python",
   "name": "python",
   "nbconvert_exporter": "python",
   "pygments_lexer": "ipython3",
   "version": "3.7.12"
  },
  "papermill": {
   "default_parameters": {},
   "duration": 1652.393027,
   "end_time": "2022-05-17T18:57:13.787013",
   "environment_variables": {},
   "exception": null,
   "input_path": "__notebook__.ipynb",
   "output_path": "__notebook__.ipynb",
   "parameters": {},
   "start_time": "2022-05-17T18:29:41.393986",
   "version": "2.3.4"
  }
 },
 "nbformat": 4,
 "nbformat_minor": 5
}
